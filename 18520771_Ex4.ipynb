{
 "cells": [
  {
   "cell_type": "code",
   "execution_count": 8,
   "id": "cd3ca990",
   "metadata": {},
   "outputs": [],
   "source": [
    "import numpy as np\n",
    "from __future__ import division\n",
    "from sklearn.metrics.pairwise import cosine_similarity"
   ]
  },
  {
   "cell_type": "code",
   "execution_count": 9,
   "id": "69c40397",
   "metadata": {},
   "outputs": [],
   "source": [
    "class Computer(object):\n",
    "    def __init__(self, proc, disk, mem):\n",
    "        self.processor_speed = proc\n",
    "        self.disk = disk\n",
    "        self.main_memory = mem\n",
    "        self.summary = [proc, disk, mem]\n",
    "    \n",
    "    def dot_prod(self,X):\n",
    "        if isinstance(X, Computer):\n",
    "            bar = [X.processor_speed, X.disk, X.main_memory]\n",
    "            return sum([x*y for x,y in zip(self.summary,bar)])\n",
    "        else:\n",
    "            assert len(X) == 3\n",
    "            return sum([x*y for x,y in zip(self.summary,X)])\n",
    "            \n",
    "    def cosine(self,X,alpha=1,beta=1):\n",
    "        if isinstance(X, Computer):\n",
    "            foo = [self.processor_speed, alpha*self.disk, beta*self.main_memory]\n",
    "            bar = [X.processor_speed, alpha*X.disk, alpha*X.main_memory]\n",
    "            ati = np.dot(foo,bar)\n",
    "            tun = np.sqrt(np.dot(foo,foo))*np.sqrt(np.dot(bar,bar))\n",
    "            return ati/tun\n",
    "    \n",
    "    def normalize(self, mu):\n",
    "        assert len(mu) == 3\n",
    "        return [self.processor_speed - mu[0], self.disk - mu[1], \n",
    "                       self.main_memory - mu[2]]"
   ]
  },
  {
   "cell_type": "code",
   "execution_count": 10,
   "id": "6e870e84",
   "metadata": {},
   "outputs": [],
   "source": [
    "A = Computer(3.06,500,6)\n",
    "B = Computer(2.68,320,4)\n",
    "C = Computer(2.92,640,6)"
   ]
  },
  {
   "cell_type": "code",
   "execution_count": 11,
   "id": "97c77794",
   "metadata": {},
   "outputs": [],
   "source": [
    "computers = {'A':A, 'B':B, 'C':C}"
   ]
  },
  {
   "cell_type": "code",
   "execution_count": 12,
   "id": "21b5c23c",
   "metadata": {},
   "outputs": [],
   "source": [
    "pairs = [['A','B'],['A','C'],['B','C']]"
   ]
  },
  {
   "cell_type": "markdown",
   "id": "c102c151",
   "metadata": {},
   "source": [
    "# if α = β = 1"
   ]
  },
  {
   "cell_type": "code",
   "execution_count": 13,
   "id": "b3d113eb",
   "metadata": {
    "scrolled": true
   },
   "outputs": [
    {
     "name": "stdout",
     "output_type": "stream",
     "text": [
      "['A', 'B'] 0.9999973332836593\n",
      "['A', 'C'] 0.9999953431214217\n",
      "['B', 'C'] 0.9999878533753953\n"
     ]
    }
   ],
   "source": [
    "for pair in pairs:\n",
    "    print(pair,computers[pair[0]].cosine(computers[pair[1]]))"
   ]
  },
  {
   "cell_type": "code",
   "execution_count": 16,
   "id": "642fadf1",
   "metadata": {},
   "outputs": [
    {
     "data": {
      "text/plain": [
       "0.0"
      ]
     },
     "execution_count": 16,
     "metadata": {},
     "output_type": "execute_result"
    }
   ],
   "source": [
    "np.angle(0.9999973332836593)"
   ]
  },
  {
   "cell_type": "code",
   "execution_count": 17,
   "id": "58b3c86d",
   "metadata": {},
   "outputs": [
    {
     "data": {
      "text/plain": [
       "0.0"
      ]
     },
     "execution_count": 17,
     "metadata": {},
     "output_type": "execute_result"
    }
   ],
   "source": [
    "np.angle(0.9999953431214217)"
   ]
  },
  {
   "cell_type": "code",
   "execution_count": 18,
   "id": "1d3f7128",
   "metadata": {},
   "outputs": [
    {
     "data": {
      "text/plain": [
       "0.0"
      ]
     },
     "execution_count": 18,
     "metadata": {},
     "output_type": "execute_result"
    }
   ],
   "source": [
    "np.angle(0.9999878533753953)"
   ]
  },
  {
   "cell_type": "markdown",
   "id": "0ac1fe3a",
   "metadata": {},
   "source": [
    "# if α = 0.01 and β = 0.5"
   ]
  },
  {
   "cell_type": "code",
   "execution_count": 14,
   "id": "9e119953",
   "metadata": {},
   "outputs": [
    {
     "name": "stdout",
     "output_type": "stream",
     "text": [
      "['A', 'B'] 0.884792148899137\n",
      "['A', 'C'] 0.8875258587620365\n",
      "['B', 'C'] 0.8730052419210099\n"
     ]
    }
   ],
   "source": [
    "for pair in pairs:\n",
    "    print(pair,computers[pair[0]].cosine(computers[pair[1]],0.01,0.5))"
   ]
  },
  {
   "cell_type": "code",
   "execution_count": 19,
   "id": "a905e638",
   "metadata": {},
   "outputs": [
    {
     "data": {
      "text/plain": [
       "0.0"
      ]
     },
     "execution_count": 19,
     "metadata": {},
     "output_type": "execute_result"
    }
   ],
   "source": [
    "np.angle(0.884792148899137)"
   ]
  },
  {
   "cell_type": "code",
   "execution_count": 20,
   "id": "8049fcca",
   "metadata": {},
   "outputs": [
    {
     "data": {
      "text/plain": [
       "0.0"
      ]
     },
     "execution_count": 20,
     "metadata": {},
     "output_type": "execute_result"
    }
   ],
   "source": [
    "np.angle(0.8875258587620365)"
   ]
  },
  {
   "cell_type": "code",
   "execution_count": 21,
   "id": "b72b0dd3",
   "metadata": {},
   "outputs": [
    {
     "data": {
      "text/plain": [
       "0.0"
      ]
     },
     "execution_count": 21,
     "metadata": {},
     "output_type": "execute_result"
    }
   ],
   "source": [
    "np.angle(0.8730052419210099)"
   ]
  },
  {
   "cell_type": "code",
   "execution_count": null,
   "id": "14fc4250",
   "metadata": {},
   "outputs": [],
   "source": []
  }
 ],
 "metadata": {
  "kernelspec": {
   "display_name": "Python 3",
   "language": "python",
   "name": "python3"
  },
  "language_info": {
   "codemirror_mode": {
    "name": "ipython",
    "version": 3
   },
   "file_extension": ".py",
   "mimetype": "text/x-python",
   "name": "python",
   "nbconvert_exporter": "python",
   "pygments_lexer": "ipython3",
   "version": "3.8.8"
  }
 },
 "nbformat": 4,
 "nbformat_minor": 5
}

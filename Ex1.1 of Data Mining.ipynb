{
 "cells": [
  {
   "cell_type": "code",
   "execution_count": 11,
   "id": "5c237925",
   "metadata": {},
   "outputs": [
    {
     "data": {
      "text/plain": [
       "<seaborn.axisgrid.FacetGrid at 0x20f67862550>"
      ]
     },
     "execution_count": 11,
     "metadata": {},
     "output_type": "execute_result"
    },
    {
     "data": {
      "image/png": "[encoded data removed]",
      "text/plain": [
       "<Figure size 360x360 with 1 Axes>"
      ]
     },
     "metadata": {
      "needs_background": "light"
     },
     "output_type": "display_data"
    }
   ],
   "source": [
    "import matplotlib.pyplot as plt\n",
    "import pandas as pd\n",
    "import numpy as np\n",
    "import seaborn as sns\n",
    "data = [130,132,138,153,133,110,132,129,135,134,136,133,133,134,135,132,135,134,133,132,130,131,135,134,136,133,133,130,129,128]\n",
    "sns.displot(data)\n"
   ]
  },
  {
   "cell_type": "code",
   "execution_count": 3,
   "id": "1d125c61",
   "metadata": {},
   "outputs": [
    {
     "data": {
      "text/plain": [
       "132.73333333333332"
      ]
     },
     "execution_count": 3,
     "metadata": {},
     "output_type": "execute_result"
    }
   ],
   "source": [
    "np.mean(data)"
   ]
  },
  {
   "cell_type": "code",
   "execution_count": 6,
   "id": "cd073f66",
   "metadata": {},
   "outputs": [
    {
     "data": {
      "text/plain": [
       "133.0"
      ]
     },
     "execution_count": 6,
     "metadata": {},
     "output_type": "execute_result"
    }
   ],
   "source": [
    "np.median(data)"
   ]
  },
  {
   "cell_type": "code",
   "execution_count": 15,
   "id": "e7fc0d56",
   "metadata": {},
   "outputs": [
    {
     "data": {
      "text/plain": [
       "36.06222222222222"
      ]
     },
     "execution_count": 15,
     "metadata": {},
     "output_type": "execute_result"
    }
   ],
   "source": [
    "np.var(data)"
   ]
  },
  {
   "cell_type": "code",
   "execution_count": 16,
   "id": "deb3b774",
   "metadata": {
    "scrolled": true
   },
   "outputs": [
    {
     "data": {
      "text/plain": [
       "6.005182946607223"
      ]
     },
     "execution_count": 16,
     "metadata": {},
     "output_type": "execute_result"
    }
   ],
   "source": [
    "np.nanstd(data)"
   ]
  },
  {
   "cell_type": "code",
   "execution_count": 19,
   "id": "2997ce45",
   "metadata": {},
   "outputs": [
    {
     "data": {
      "text/plain": [
       "132.73333333333332"
      ]
     },
     "execution_count": 19,
     "metadata": {},
     "output_type": "execute_result"
    }
   ],
   "source": [
    "from statistics import *\n",
    "example_list = [130,132,138,153,133,110,132,129,135,134,136,133,133,134,135,132,135,134,133,132,130,131,135,134,136,133,133,130,129,128]\n",
    "x = mean(example_list)\n",
    "x"
   ]
  },
  {
   "cell_type": "code",
   "execution_count": 20,
   "id": "ba6740e9",
   "metadata": {},
   "outputs": [
    {
     "data": {
      "text/plain": [
       "132.73333333333332"
      ]
     },
     "execution_count": 20,
     "metadata": {},
     "output_type": "execute_result"
    }
   ],
   "source": [
    "import statistics\n",
    "statistics.mean([130,132,138,153,133,110,132,129,135,134,136,133,133,134,135,132,135,134,133,132,130,131,135,134,136,133,133,130,129,128])"
   ]
  },
  {
   "cell_type": "code",
   "execution_count": 21,
   "id": "f7bf139b",
   "metadata": {},
   "outputs": [
    {
     "data": {
      "text/plain": [
       "133"
      ]
     },
     "execution_count": 21,
     "metadata": {},
     "output_type": "execute_result"
    }
   ],
   "source": [
    "import statistics\n",
    "statistics.mode([130,132,138,153,133,110,132,129,135,134,136,133,133,134,135,132,135,134,133,132,130,131,135,134,136,133,133,130,129,128])"
   ]
  },
  {
   "cell_type": "code",
   "execution_count": null,
   "id": "8cde9cb6",
   "metadata": {},
   "outputs": [],
   "source": []
  }
 ],
 "metadata": {
  "kernelspec": {
   "display_name": "Python 3",
   "language": "python",
   "name": "python3"
  },
  "language_info": {
   "codemirror_mode": {
    "name": "ipython",
    "version": 3
   },
   "file_extension": ".py",
   "mimetype": "text/x-python",
   "name": "python",
   "nbconvert_exporter": "python",
   "pygments_lexer": "ipython3",
   "version": "3.8.8"
  }
 },
 "nbformat": 4,
 "nbformat_minor": 5
}
